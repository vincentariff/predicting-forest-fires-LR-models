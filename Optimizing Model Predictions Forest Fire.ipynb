{
 "cells": [
  {
   "cell_type": "markdown",
   "id": "54e07ef1",
   "metadata": {},
   "source": [
    "# Optimizing Forest Fire Model Predictions Using Linear Regression"
   ]
  },
  {
   "cell_type": "markdown",
   "id": "36439a47",
   "metadata": {},
   "source": [
    "In this project we're going to predict the damage of forest fires in the northeast region of portugal using linear regression. The dataset [Forest Fires](https://archive.ics.uci.edu/dataset/162/forest+fires) we'll be working with comes from the UCI Machine Learning Repository. We'll be working with a slighty modified version of the dataset for our purpose. \n",
    "\n",
    "We're going to start with a reference model using the features \"temp\" and \"wind\" with \"area\" as our outcome of interest. We'll be iterating through mutiple variations of linear regression models to optimize the predictive ability compared to our reference model.\n",
    "\n",
    "Let's dive right in!"
   ]
  },
  {
   "cell_type": "code",
   "execution_count": 1,
   "id": "d516c39d",
   "metadata": {},
   "outputs": [],
   "source": [
    "# Importing Libraries\n",
    "import pandas as pd\n",
    "import numpy as np\n",
    "\n",
    "from sklearn.linear_model import LinearRegression"
   ]
  },
  {
   "cell_type": "code",
   "execution_count": 2,
   "id": "d4e22240",
   "metadata": {},
   "outputs": [],
   "source": [
    "# Loading Forest Fires dataset\n",
    "ff = pd.read_csv('fires.csv')"
   ]
  },
  {
   "cell_type": "code",
   "execution_count": 3,
   "id": "61a251e9",
   "metadata": {},
   "outputs": [
    {
     "data": {
      "text/html": [
       "<div>\n",
       "<style scoped>\n",
       "    .dataframe tbody tr th:only-of-type {\n",
       "        vertical-align: middle;\n",
       "    }\n",
       "\n",
       "    .dataframe tbody tr th {\n",
       "        vertical-align: top;\n",
       "    }\n",
       "\n",
       "    .dataframe thead th {\n",
       "        text-align: right;\n",
       "    }\n",
       "</style>\n",
       "<table border=\"1\" class=\"dataframe\">\n",
       "  <thead>\n",
       "    <tr style=\"text-align: right;\">\n",
       "      <th></th>\n",
       "      <th>Unnamed: 0</th>\n",
       "      <th>X</th>\n",
       "      <th>Y</th>\n",
       "      <th>month</th>\n",
       "      <th>day</th>\n",
       "      <th>FFMC</th>\n",
       "      <th>DMC</th>\n",
       "      <th>DC</th>\n",
       "      <th>ISI</th>\n",
       "      <th>temp</th>\n",
       "      <th>RH</th>\n",
       "      <th>wind</th>\n",
       "      <th>rain</th>\n",
       "      <th>area</th>\n",
       "    </tr>\n",
       "  </thead>\n",
       "  <tbody>\n",
       "    <tr>\n",
       "      <th>0</th>\n",
       "      <td>1</td>\n",
       "      <td>7</td>\n",
       "      <td>5</td>\n",
       "      <td>mar</td>\n",
       "      <td>fri</td>\n",
       "      <td>86.2</td>\n",
       "      <td>26.2</td>\n",
       "      <td>94.3</td>\n",
       "      <td>5.1</td>\n",
       "      <td>NaN</td>\n",
       "      <td>51.0</td>\n",
       "      <td>6.7</td>\n",
       "      <td>0.0</td>\n",
       "      <td>0.0</td>\n",
       "    </tr>\n",
       "    <tr>\n",
       "      <th>1</th>\n",
       "      <td>2</td>\n",
       "      <td>7</td>\n",
       "      <td>4</td>\n",
       "      <td>oct</td>\n",
       "      <td>tue</td>\n",
       "      <td>90.6</td>\n",
       "      <td>NaN</td>\n",
       "      <td>669.1</td>\n",
       "      <td>6.7</td>\n",
       "      <td>18.0</td>\n",
       "      <td>33.0</td>\n",
       "      <td>0.9</td>\n",
       "      <td>0.0</td>\n",
       "      <td>0.0</td>\n",
       "    </tr>\n",
       "    <tr>\n",
       "      <th>2</th>\n",
       "      <td>3</td>\n",
       "      <td>7</td>\n",
       "      <td>4</td>\n",
       "      <td>oct</td>\n",
       "      <td>sat</td>\n",
       "      <td>90.6</td>\n",
       "      <td>43.7</td>\n",
       "      <td>NaN</td>\n",
       "      <td>6.7</td>\n",
       "      <td>14.6</td>\n",
       "      <td>33.0</td>\n",
       "      <td>1.3</td>\n",
       "      <td>0.0</td>\n",
       "      <td>0.0</td>\n",
       "    </tr>\n",
       "    <tr>\n",
       "      <th>3</th>\n",
       "      <td>4</td>\n",
       "      <td>8</td>\n",
       "      <td>6</td>\n",
       "      <td>mar</td>\n",
       "      <td>fri</td>\n",
       "      <td>91.7</td>\n",
       "      <td>33.3</td>\n",
       "      <td>77.5</td>\n",
       "      <td>9.0</td>\n",
       "      <td>8.3</td>\n",
       "      <td>97.0</td>\n",
       "      <td>4.0</td>\n",
       "      <td>0.2</td>\n",
       "      <td>0.0</td>\n",
       "    </tr>\n",
       "    <tr>\n",
       "      <th>4</th>\n",
       "      <td>5</td>\n",
       "      <td>8</td>\n",
       "      <td>6</td>\n",
       "      <td>mar</td>\n",
       "      <td>sun</td>\n",
       "      <td>89.3</td>\n",
       "      <td>51.3</td>\n",
       "      <td>102.2</td>\n",
       "      <td>9.6</td>\n",
       "      <td>11.4</td>\n",
       "      <td>99.0</td>\n",
       "      <td>NaN</td>\n",
       "      <td>0.0</td>\n",
       "      <td>0.0</td>\n",
       "    </tr>\n",
       "  </tbody>\n",
       "</table>\n",
       "</div>"
      ],
      "text/plain": [
       "   Unnamed: 0  X  Y month  day  FFMC   DMC     DC  ISI  temp    RH  wind  \\\n",
       "0           1  7  5   mar  fri  86.2  26.2   94.3  5.1   NaN  51.0   6.7   \n",
       "1           2  7  4   oct  tue  90.6   NaN  669.1  6.7  18.0  33.0   0.9   \n",
       "2           3  7  4   oct  sat  90.6  43.7    NaN  6.7  14.6  33.0   1.3   \n",
       "3           4  8  6   mar  fri  91.7  33.3   77.5  9.0   8.3  97.0   4.0   \n",
       "4           5  8  6   mar  sun  89.3  51.3  102.2  9.6  11.4  99.0   NaN   \n",
       "\n",
       "   rain  area  \n",
       "0   0.0   0.0  \n",
       "1   0.0   0.0  \n",
       "2   0.0   0.0  \n",
       "3   0.2   0.0  \n",
       "4   0.0   0.0  "
      ]
     },
     "execution_count": 3,
     "metadata": {},
     "output_type": "execute_result"
    }
   ],
   "source": [
    "# Showing first 5 rows\n",
    "ff.head()"
   ]
  },
  {
   "cell_type": "markdown",
   "id": "766c3e7c",
   "metadata": {},
   "source": [
    "Below are descriptions of each column from the Forest Fires dataset straight from the UCI Machine Learning Repository."
   ]
  },
  {
   "cell_type": "markdown",
   "id": "e2b2ef43",
   "metadata": {},
   "source": [
    "* `X` - x-axis spatial coordinate within the Montesinho park map: 1 to 9\n",
    "* `Y` - y-axis spatial coordinate within the Montesinho park map: 2 to 9\n",
    "* `month` - month of the year: 'jan' to 'dec' \n",
    "* `day` - day of the week: 'mon' to 'sun'\n",
    "* `FFMC` - FFMC index from the FWI system: 18.7 to 96.20\n",
    "* `DMC` - DMC index from the FWI system: 1.1 to 291.3 \n",
    "* `DC` - DC index from the FWI system: 7.9 to 860.6 \n",
    "* `ISI` - ISI index from the FWI system: 0.0 to 56.10\n",
    "* `temp` - temperature in Celsius degrees: 2.2 to 33.30\n",
    "* `RH` - relative humidity in %: 15.0 to 100\n",
    "* `wind` - wind speed in km/h: 0.40 to 9.40 \n",
    "* `rain` - outside rain in mm/m2 : 0.0 to 6.4 \n",
    "* `area` - the burned area of the forest (in ha): 0.00 to 1090.84 \n",
    "  (this output variable is very skewed towards 0.0, thus it may make\n",
    "  sense to model with the logarithm transform)."
   ]
  },
  {
   "cell_type": "code",
   "execution_count": 4,
   "id": "05f38e63",
   "metadata": {},
   "outputs": [
    {
     "name": "stdout",
     "output_type": "stream",
     "text": [
      "<class 'pandas.core.frame.DataFrame'>\n",
      "RangeIndex: 517 entries, 0 to 516\n",
      "Data columns (total 14 columns):\n",
      " #   Column      Non-Null Count  Dtype  \n",
      "---  ------      --------------  -----  \n",
      " 0   Unnamed: 0  517 non-null    int64  \n",
      " 1   X           517 non-null    int64  \n",
      " 2   Y           517 non-null    int64  \n",
      " 3   month       517 non-null    object \n",
      " 4   day         517 non-null    object \n",
      " 5   FFMC        469 non-null    float64\n",
      " 6   DMC         496 non-null    float64\n",
      " 7   DC          474 non-null    float64\n",
      " 8   ISI         515 non-null    float64\n",
      " 9   temp        496 non-null    float64\n",
      " 10  RH          487 non-null    float64\n",
      " 11  wind        482 non-null    float64\n",
      " 12  rain        485 non-null    float64\n",
      " 13  area        517 non-null    float64\n",
      "dtypes: float64(9), int64(3), object(2)\n",
      "memory usage: 56.7+ KB\n"
     ]
    }
   ],
   "source": [
    "ff.info()"
   ]
  },
  {
   "cell_type": "code",
   "execution_count": 5,
   "id": "fdeb4aef",
   "metadata": {},
   "outputs": [
    {
     "data": {
      "text/plain": [
       "48"
      ]
     },
     "execution_count": 5,
     "metadata": {},
     "output_type": "execute_result"
    }
   ],
   "source": [
    "# Amount of missing values in FFMC\n",
    "sum(ff['FFMC'].isnull())"
   ]
  },
  {
   "cell_type": "markdown",
   "id": "f9ab9e1c",
   "metadata": {},
   "source": [
    "There are 517 rows with 14 columns. Of those columns, 8 of them have missing data. 48 missing values is the highest value of those 8 columns. \"month\" and \"day\" are categorical. "
   ]
  },
  {
   "cell_type": "markdown",
   "id": "dfcfc37c",
   "metadata": {},
   "source": [
    "# Data Processing"
   ]
  },
  {
   "cell_type": "code",
   "execution_count": 6,
   "id": "72bd1b41",
   "metadata": {},
   "outputs": [
    {
     "data": {
      "text/plain": [
       "<Axes: >"
      ]
     },
     "execution_count": 6,
     "metadata": {},
     "output_type": "execute_result"
    },
    {
     "data": {
      "image/png": "[encoded data removed]",
      "text/plain": [
       "<Figure size 640x480 with 1 Axes>"
      ]
     },
     "metadata": {},
     "output_type": "display_data"
    }
   ],
   "source": [
    "# Distrubution of 'area'\n",
    "ff['area'].hist(bins=30)"
   ]
  },
  {
   "cell_type": "code",
   "execution_count": 7,
   "id": "78d490e5",
   "metadata": {},
   "outputs": [
    {
     "data": {
      "text/plain": [
       "0.00       247\n",
       "0.09         1\n",
       "0.17         1\n",
       "0.21         1\n",
       "0.24         1\n",
       "          ... \n",
       "200.94       1\n",
       "212.88       1\n",
       "278.53       1\n",
       "746.28       1\n",
       "1090.84      1\n",
       "Name: area, Length: 251, dtype: int64"
      ]
     },
     "execution_count": 7,
     "metadata": {},
     "output_type": "execute_result"
    }
   ],
   "source": [
    "# \n",
    "ff['area'].value_counts().sort_index()"
   ]
  },
  {
   "cell_type": "markdown",
   "id": "3d774375",
   "metadata": {},
   "source": [
    "The distrubution of our output variable is skewed to the right. Most of its values are zero or close to it. It might be a good idea to log-transform this output variable. Since log(0) is undefined, we'll add 1 to to prevent any errors."
   ]
  },
  {
   "cell_type": "code",
   "execution_count": 8,
   "id": "d9fa92aa",
   "metadata": {},
   "outputs": [
    {
     "data": {
      "text/plain": [
       "<Axes: >"
      ]
     },
     "execution_count": 8,
     "metadata": {},
     "output_type": "execute_result"
    },
    {
     "data": {
      "image/png": "[encoded data removed]",
      "text/plain": [
       "<Figure size 640x480 with 1 Axes>"
      ]
     },
     "metadata": {},
     "output_type": "display_data"
    }
   ],
   "source": [
    "# Log transforming 'area'\n",
    "ff['log_area'] = np.log(ff['area'] + 1)\n",
    "\n",
    "ff['log_area'].hist(bins=30)"
   ]
  },
  {
   "cell_type": "markdown",
   "id": "73740a46",
   "metadata": {},
   "source": [
    "The disribution is still skewed to the right having most of its values at around 0. But most of the values are more spread out than the non-log area, which is better. "
   ]
  },
  {
   "cell_type": "markdown",
   "id": "6f145b1f",
   "metadata": {},
   "source": [
    "Let's take a look at the month column."
   ]
  },
  {
   "cell_type": "code",
   "execution_count": 9,
   "id": "05c9043e",
   "metadata": {},
   "outputs": [
    {
     "data": {
      "text/plain": [
       "aug    184\n",
       "sep    172\n",
       "mar     54\n",
       "jul     32\n",
       "feb     20\n",
       "jun     17\n",
       "oct     15\n",
       "apr      9\n",
       "dec      9\n",
       "jan      2\n",
       "may      2\n",
       "nov      1\n",
       "Name: month, dtype: int64"
      ]
     },
     "execution_count": 9,
     "metadata": {},
     "output_type": "execute_result"
    }
   ],
   "source": [
    "# month distribution\n",
    "ff['month'].value_counts()"
   ]
  },
  {
   "cell_type": "markdown",
   "id": "581c8719",
   "metadata": {},
   "source": [
    "A majority of the fires happen in the summer months. It would be a good idea to convert the month column into numerical indicators representing whether its a summer month (June, July, August, or September) or not. Summer months tend to be the hottest and dryest times of the year. It only makes sense that most of the fires would happen between these months.\n",
    "\n",
    "We'll create a new column \"summer\" and use the value 1 to represent if the fire happened in the summer."
   ]
  },
  {
   "cell_type": "code",
   "execution_count": 10,
   "id": "223ef490",
   "metadata": {},
   "outputs": [
    {
     "data": {
      "text/plain": [
       "1    405\n",
       "0    112\n",
       "Name: summer, dtype: int64"
      ]
     },
     "execution_count": 10,
     "metadata": {},
     "output_type": "execute_result"
    }
   ],
   "source": [
    "# Function to iterate over 'month' to return indicators\n",
    "def is_summer(month):\n",
    "    if month in ['jun', 'jul', 'aug', 'sep']:\n",
    "        return 1\n",
    "    else:\n",
    "        return 0\n",
    "\n",
    "# Applying function to create 'summer' column\n",
    "ff['summer'] = [is_summer(m) for m in ff[\"month\"]]\n",
    "\n",
    "# Checking summer counts\n",
    "ff['summer'].value_counts()"
   ]
  },
  {
   "cell_type": "markdown",
   "id": "bfa448e4",
   "metadata": {},
   "source": [
    "Next step would be to address all the missing values in the dataset. We'll use the K-Nearest Neighbors imputation to impute the missing data since we expect area damage to be similar with similar fires."
   ]
  },
  {
   "cell_type": "code",
   "execution_count": 11,
   "id": "0a763902",
   "metadata": {},
   "outputs": [],
   "source": [
    "# Loading K-Nearest Neighbors imputer library\n",
    "from sklearn.impute import KNNImputer\n",
    "\n",
    "# Instatiating knn imputer\n",
    "imp = KNNImputer(missing_values=np.nan, n_neighbors=3)\n",
    "\n",
    "# Indexing columns to be imputed, 'FFMC' to 'rain'\n",
    "missing_ff = ff[ff.columns[5:13]]\n",
    "\n",
    "# Converting imputed array back to dataframe\n",
    "imputed_ff = pd.DataFrame(imp.fit_transform(missing_ff), columns=missing_ff.columns)"
   ]
  },
  {
   "cell_type": "code",
   "execution_count": 12,
   "id": "29e8544b",
   "metadata": {},
   "outputs": [
    {
     "name": "stdout",
     "output_type": "stream",
     "text": [
      "<class 'pandas.core.frame.DataFrame'>\n",
      "RangeIndex: 517 entries, 0 to 516\n",
      "Data columns (total 8 columns):\n",
      " #   Column  Non-Null Count  Dtype  \n",
      "---  ------  --------------  -----  \n",
      " 0   FFMC    517 non-null    float64\n",
      " 1   DMC     517 non-null    float64\n",
      " 2   DC      517 non-null    float64\n",
      " 3   ISI     517 non-null    float64\n",
      " 4   temp    517 non-null    float64\n",
      " 5   RH      517 non-null    float64\n",
      " 6   wind    517 non-null    float64\n",
      " 7   rain    517 non-null    float64\n",
      "dtypes: float64(8)\n",
      "memory usage: 32.4 KB\n"
     ]
    }
   ],
   "source": [
    "# Checking for missing values\n",
    "imputed_ff.info()"
   ]
  },
  {
   "cell_type": "code",
   "execution_count": 32,
   "id": "6f6f616f",
   "metadata": {},
   "outputs": [
    {
     "data": {
      "text/html": [
       "<div>\n",
       "<style scoped>\n",
       "    .dataframe tbody tr th:only-of-type {\n",
       "        vertical-align: middle;\n",
       "    }\n",
       "\n",
       "    .dataframe tbody tr th {\n",
       "        vertical-align: top;\n",
       "    }\n",
       "\n",
       "    .dataframe thead th {\n",
       "        text-align: right;\n",
       "    }\n",
       "</style>\n",
       "<table border=\"1\" class=\"dataframe\">\n",
       "  <thead>\n",
       "    <tr style=\"text-align: right;\">\n",
       "      <th></th>\n",
       "      <th>FFMC</th>\n",
       "      <th>DMC</th>\n",
       "      <th>DC</th>\n",
       "      <th>ISI</th>\n",
       "      <th>temp</th>\n",
       "      <th>RH</th>\n",
       "      <th>wind</th>\n",
       "      <th>rain</th>\n",
       "    </tr>\n",
       "  </thead>\n",
       "  <tbody>\n",
       "    <tr>\n",
       "      <th>0</th>\n",
       "      <td>86.2</td>\n",
       "      <td>26.200000</td>\n",
       "      <td>94.300000</td>\n",
       "      <td>5.1</td>\n",
       "      <td>16.6</td>\n",
       "      <td>51.0</td>\n",
       "      <td>6.700000</td>\n",
       "      <td>0.0</td>\n",
       "    </tr>\n",
       "    <tr>\n",
       "      <th>1</th>\n",
       "      <td>90.6</td>\n",
       "      <td>56.433333</td>\n",
       "      <td>669.100000</td>\n",
       "      <td>6.7</td>\n",
       "      <td>18.0</td>\n",
       "      <td>33.0</td>\n",
       "      <td>0.900000</td>\n",
       "      <td>0.0</td>\n",
       "    </tr>\n",
       "    <tr>\n",
       "      <th>2</th>\n",
       "      <td>90.6</td>\n",
       "      <td>43.700000</td>\n",
       "      <td>470.833333</td>\n",
       "      <td>6.7</td>\n",
       "      <td>14.6</td>\n",
       "      <td>33.0</td>\n",
       "      <td>1.300000</td>\n",
       "      <td>0.0</td>\n",
       "    </tr>\n",
       "    <tr>\n",
       "      <th>3</th>\n",
       "      <td>91.7</td>\n",
       "      <td>33.300000</td>\n",
       "      <td>77.500000</td>\n",
       "      <td>9.0</td>\n",
       "      <td>8.3</td>\n",
       "      <td>97.0</td>\n",
       "      <td>4.000000</td>\n",
       "      <td>0.2</td>\n",
       "    </tr>\n",
       "    <tr>\n",
       "      <th>4</th>\n",
       "      <td>89.3</td>\n",
       "      <td>51.300000</td>\n",
       "      <td>102.200000</td>\n",
       "      <td>9.6</td>\n",
       "      <td>11.4</td>\n",
       "      <td>99.0</td>\n",
       "      <td>4.333333</td>\n",
       "      <td>0.0</td>\n",
       "    </tr>\n",
       "  </tbody>\n",
       "</table>\n",
       "</div>"
      ],
      "text/plain": [
       "   FFMC        DMC          DC  ISI  temp    RH      wind  rain\n",
       "0  86.2  26.200000   94.300000  5.1  16.6  51.0  6.700000   0.0\n",
       "1  90.6  56.433333  669.100000  6.7  18.0  33.0  0.900000   0.0\n",
       "2  90.6  43.700000  470.833333  6.7  14.6  33.0  1.300000   0.0\n",
       "3  91.7  33.300000   77.500000  9.0   8.3  97.0  4.000000   0.2\n",
       "4  89.3  51.300000  102.200000  9.6  11.4  99.0  4.333333   0.0"
      ]
     },
     "execution_count": 32,
     "metadata": {},
     "output_type": "execute_result"
    }
   ],
   "source": [
    "# First 5 rows of imputed_ff\n",
    "imputed_ff.head()"
   ]
  },
  {
   "cell_type": "markdown",
   "id": "0e8118b7",
   "metadata": {},
   "source": [
    "Next we'll see if we have any outliers in each of the columns using a boxplot. A boxplot will show the outliers using black dots."
   ]
  },
  {
   "cell_type": "code",
   "execution_count": 13,
   "id": "5bd17cb6",
   "metadata": {},
   "outputs": [
    {
     "data": {
      "text/plain": [
       "<Axes: >"
      ]
     },
     "execution_count": 13,
     "metadata": {},
     "output_type": "execute_result"
    },
    {
     "data": {
      "image/png": "[encoded data removed]",
      "text/plain": [
       "<Figure size 640x480 with 1 Axes>"
      ]
     },
     "metadata": {},
     "output_type": "display_data"
    }
   ],
   "source": [
    "# boxplot shows potential outliers with black dots\n",
    "imputed_ff.boxplot()"
   ]
  },
  {
   "cell_type": "code",
   "execution_count": 34,
   "id": "5b584683",
   "metadata": {},
   "outputs": [
    {
     "data": {
      "text/html": [
       "<div>\n",
       "<style scoped>\n",
       "    .dataframe tbody tr th:only-of-type {\n",
       "        vertical-align: middle;\n",
       "    }\n",
       "\n",
       "    .dataframe tbody tr th {\n",
       "        vertical-align: top;\n",
       "    }\n",
       "\n",
       "    .dataframe thead th {\n",
       "        text-align: right;\n",
       "    }\n",
       "</style>\n",
       "<table border=\"1\" class=\"dataframe\">\n",
       "  <thead>\n",
       "    <tr style=\"text-align: right;\">\n",
       "      <th></th>\n",
       "      <th>FFMC</th>\n",
       "      <th>DMC</th>\n",
       "      <th>DC</th>\n",
       "      <th>ISI</th>\n",
       "      <th>temp</th>\n",
       "      <th>RH</th>\n",
       "      <th>wind</th>\n",
       "      <th>rain</th>\n",
       "    </tr>\n",
       "  </thead>\n",
       "  <tbody>\n",
       "    <tr>\n",
       "      <th>count</th>\n",
       "      <td>517.000000</td>\n",
       "      <td>517.000000</td>\n",
       "      <td>517.000000</td>\n",
       "      <td>517.000000</td>\n",
       "      <td>517.000000</td>\n",
       "      <td>517.000000</td>\n",
       "      <td>517.000000</td>\n",
       "      <td>517.000000</td>\n",
       "    </tr>\n",
       "    <tr>\n",
       "      <th>mean</th>\n",
       "      <td>90.658930</td>\n",
       "      <td>110.886912</td>\n",
       "      <td>544.791231</td>\n",
       "      <td>9.016054</td>\n",
       "      <td>18.896970</td>\n",
       "      <td>44.355255</td>\n",
       "      <td>4.018569</td>\n",
       "      <td>0.021663</td>\n",
       "    </tr>\n",
       "    <tr>\n",
       "      <th>std</th>\n",
       "      <td>5.494697</td>\n",
       "      <td>63.452541</td>\n",
       "      <td>244.178695</td>\n",
       "      <td>4.556973</td>\n",
       "      <td>5.774151</td>\n",
       "      <td>15.884310</td>\n",
       "      <td>1.772620</td>\n",
       "      <td>0.295959</td>\n",
       "    </tr>\n",
       "    <tr>\n",
       "      <th>min</th>\n",
       "      <td>18.700000</td>\n",
       "      <td>1.100000</td>\n",
       "      <td>7.900000</td>\n",
       "      <td>0.000000</td>\n",
       "      <td>2.200000</td>\n",
       "      <td>15.000000</td>\n",
       "      <td>0.400000</td>\n",
       "      <td>0.000000</td>\n",
       "    </tr>\n",
       "    <tr>\n",
       "      <th>25%</th>\n",
       "      <td>90.300000</td>\n",
       "      <td>70.800000</td>\n",
       "      <td>442.100000</td>\n",
       "      <td>6.500000</td>\n",
       "      <td>15.600000</td>\n",
       "      <td>33.000000</td>\n",
       "      <td>2.700000</td>\n",
       "      <td>0.000000</td>\n",
       "    </tr>\n",
       "    <tr>\n",
       "      <th>50%</th>\n",
       "      <td>91.600000</td>\n",
       "      <td>108.300000</td>\n",
       "      <td>658.200000</td>\n",
       "      <td>8.400000</td>\n",
       "      <td>19.300000</td>\n",
       "      <td>42.000000</td>\n",
       "      <td>4.000000</td>\n",
       "      <td>0.000000</td>\n",
       "    </tr>\n",
       "    <tr>\n",
       "      <th>75%</th>\n",
       "      <td>92.800000</td>\n",
       "      <td>141.300000</td>\n",
       "      <td>706.700000</td>\n",
       "      <td>10.700000</td>\n",
       "      <td>22.800000</td>\n",
       "      <td>53.000000</td>\n",
       "      <td>4.900000</td>\n",
       "      <td>0.000000</td>\n",
       "    </tr>\n",
       "    <tr>\n",
       "      <th>max</th>\n",
       "      <td>96.200000</td>\n",
       "      <td>291.300000</td>\n",
       "      <td>860.600000</td>\n",
       "      <td>56.100000</td>\n",
       "      <td>33.300000</td>\n",
       "      <td>100.000000</td>\n",
       "      <td>9.400000</td>\n",
       "      <td>6.400000</td>\n",
       "    </tr>\n",
       "  </tbody>\n",
       "</table>\n",
       "</div>"
      ],
      "text/plain": [
       "             FFMC         DMC          DC         ISI        temp          RH  \\\n",
       "count  517.000000  517.000000  517.000000  517.000000  517.000000  517.000000   \n",
       "mean    90.658930  110.886912  544.791231    9.016054   18.896970   44.355255   \n",
       "std      5.494697   63.452541  244.178695    4.556973    5.774151   15.884310   \n",
       "min     18.700000    1.100000    7.900000    0.000000    2.200000   15.000000   \n",
       "25%     90.300000   70.800000  442.100000    6.500000   15.600000   33.000000   \n",
       "50%     91.600000  108.300000  658.200000    8.400000   19.300000   42.000000   \n",
       "75%     92.800000  141.300000  706.700000   10.700000   22.800000   53.000000   \n",
       "max     96.200000  291.300000  860.600000   56.100000   33.300000  100.000000   \n",
       "\n",
       "             wind        rain  \n",
       "count  517.000000  517.000000  \n",
       "mean     4.018569    0.021663  \n",
       "std      1.772620    0.295959  \n",
       "min      0.400000    0.000000  \n",
       "25%      2.700000    0.000000  \n",
       "50%      4.000000    0.000000  \n",
       "75%      4.900000    0.000000  \n",
       "max      9.400000    6.400000  "
      ]
     },
     "execution_count": 34,
     "metadata": {},
     "output_type": "execute_result"
    }
   ],
   "source": [
    "# Descriptive statistics\n",
    "imputed_ff.describe()"
   ]
  },
  {
   "cell_type": "markdown",
   "id": "1f917e3d",
   "metadata": {},
   "source": [
    "While lookig at our box plot and our descriptive statistics from the describe function, there looks to be some outliers. Let's go ahead and confirm this for each column by calculating the outliers by hand following the box plot method."
   ]
  },
  {
   "cell_type": "code",
   "execution_count": 42,
   "id": "54047472",
   "metadata": {
    "scrolled": true
   },
   "outputs": [
    {
     "name": "stdout",
     "output_type": "stream",
     "text": [
      "---------------------\n",
      "\n",
      "FFMC has 53 outliers\n",
      "\n",
      "0      86.200000\n",
      "12     63.500000\n",
      "17     84.900000\n",
      "19     86.300000\n",
      "40     79.500000\n",
      "58     84.000000\n",
      "75     84.200000\n",
      "96     83.900000\n",
      "97     69.000000\n",
      "104    82.100000\n",
      "105    85.900000\n",
      "110    85.900000\n",
      "123    84.400000\n",
      "130    68.200000\n",
      "138    85.800000\n",
      "147    84.400000\n",
      "165    84.900000\n",
      "171    85.600000\n",
      "176    84.433333\n",
      "196    81.500000\n",
      "199    63.500000\n",
      "202    83.900000\n",
      "233    84.400000\n",
      "239    81.900000\n",
      "241    83.000000\n",
      "273    84.533333\n",
      "274    84.000000\n",
      "275    84.600000\n",
      "276    85.400000\n",
      "277    85.400000\n",
      "278    85.400000\n",
      "279    85.400000\n",
      "280    84.700000\n",
      "281    85.400000\n",
      "282    84.900000\n",
      "284    85.200000\n",
      "299    53.400000\n",
      "312    50.400000\n",
      "379    18.700000\n",
      "390    84.700000\n",
      "394    84.100000\n",
      "395    85.000000\n",
      "407    83.833333\n",
      "410    84.100000\n",
      "411    84.600000\n",
      "463    75.100000\n",
      "464    75.100000\n",
      "465    79.500000\n",
      "511    81.600000\n",
      "512    81.600000\n",
      "513    81.600000\n",
      "514    81.600000\n",
      "516    79.500000\n",
      "Name: FFMC, dtype: float64\n",
      "---------------------\n",
      "\n",
      "DMC has 22 outliers\n",
      "\n",
      "369    276.3\n",
      "370    276.3\n",
      "374    290.0\n",
      "383    248.4\n",
      "384    273.8\n",
      "392    276.3\n",
      "406    291.3\n",
      "408    290.0\n",
      "422    263.1\n",
      "425    248.4\n",
      "426    248.4\n",
      "430    287.2\n",
      "434    269.8\n",
      "437    253.6\n",
      "440    290.0\n",
      "444    290.0\n",
      "448    284.9\n",
      "453    266.2\n",
      "454    248.4\n",
      "456    248.4\n",
      "459    273.8\n",
      "462    276.3\n",
      "Name: DMC, dtype: float64\n",
      "---------------------\n",
      "\n",
      "DC has 25 outliers\n",
      "\n",
      "58     34.000000\n",
      "59     43.000000\n",
      "75     26.600000\n",
      "76     43.000000\n",
      "96     30.200000\n",
      "97     15.500000\n",
      "104    19.666667\n",
      "239     7.900000\n",
      "240    43.500000\n",
      "283    18.700000\n",
      "284    15.800000\n",
      "378    30.600000\n",
      "387    30.600000\n",
      "393    25.600000\n",
      "411    43.600000\n",
      "417    28.300000\n",
      "442    41.600000\n",
      "447    28.300000\n",
      "463    16.200000\n",
      "464    16.200000\n",
      "465    15.300000\n",
      "466    36.900000\n",
      "467    41.600000\n",
      "468    43.500000\n",
      "469    25.600000\n",
      "Name: DC, dtype: float64\n",
      "---------------------\n",
      "\n",
      "ISI has 23 outliers\n",
      "\n",
      "11     22.6\n",
      "22     56.1\n",
      "24     20.3\n",
      "133    17.9\n",
      "135    20.3\n",
      "149    17.9\n",
      "206    20.3\n",
      "209    17.9\n",
      "211    20.3\n",
      "266    22.7\n",
      "379     0.0\n",
      "382    18.0\n",
      "421    18.0\n",
      "450    18.0\n",
      "475    18.0\n",
      "485    21.3\n",
      "486    17.7\n",
      "487    17.7\n",
      "488    17.7\n",
      "489    17.7\n",
      "490    17.7\n",
      "503    20.0\n",
      "504    20.0\n",
      "Name: ISI, dtype: float64\n",
      "---------------------\n",
      "\n",
      "temp has 9 outliers\n",
      "\n",
      "274    4.033333\n",
      "276    4.600000\n",
      "277    4.600000\n",
      "278    4.600000\n",
      "279    4.600000\n",
      "280    2.200000\n",
      "282    3.966667\n",
      "463    4.600000\n",
      "465    4.600000\n",
      "Name: temp, dtype: float64\n",
      "---------------------\n",
      "\n",
      "RH has 10 outliers\n",
      "\n",
      "3       97.0\n",
      "4       99.0\n",
      "7       86.0\n",
      "98      87.0\n",
      "211     96.0\n",
      "261     84.0\n",
      "286     90.0\n",
      "299     90.0\n",
      "379    100.0\n",
      "451     88.0\n",
      "Name: RH, dtype: float64\n",
      "---------------------\n",
      "\n",
      "wind has 13 outliers\n",
      "\n",
      "142    8.9\n",
      "162    8.5\n",
      "168    9.4\n",
      "273    8.5\n",
      "276    8.5\n",
      "277    8.5\n",
      "278    8.5\n",
      "279    8.5\n",
      "281    8.5\n",
      "411    9.4\n",
      "469    9.4\n",
      "475    9.4\n",
      "506    8.5\n",
      "Name: wind, dtype: float64\n",
      "---------------------\n",
      "\n",
      "rain has 8 outliers\n",
      "\n",
      "3      0.2\n",
      "243    1.0\n",
      "286    0.2\n",
      "499    6.4\n",
      "500    0.8\n",
      "501    0.8\n",
      "502    0.4\n",
      "509    1.4\n",
      "Name: rain, dtype: float64\n"
     ]
    }
   ],
   "source": [
    "# Represents each quartile\n",
    "percentile = [25, 50, 75]\n",
    "\n",
    "# Loop through each column\n",
    "for col in imputed_ff:\n",
    "    \n",
    "    # Calculates each quartile for each column\n",
    "    col_quartiles = np.percentile(imputed_ff[col], percentile)\n",
    "    \n",
    "    # Inner quartile range\n",
    "    iqr = col_quartiles[2] - col_quartiles[0]\n",
    "    \n",
    "    # Lower line below the box on the boxplot graph, below this line are outliers\n",
    "    lower_bound = col_quartiles[0] - (1.5 * iqr)\n",
    "    \n",
    "    # Upper line above the box on the boxplot graph, above this line are outliers\n",
    "    upper_bound = col_quartiles[2] + (1.5 * iqr)\n",
    "    \n",
    "    \n",
    "    # Mask that counts ouliers for each coloumn above or below the bound lines\n",
    "    n_of_outliers = imputed_ff[(imputed_ff[col] < lower_bound) | (imputed_ff[col] > upper_bound)].shape[0]\n",
    "    \n",
    "    col_outliers_mask = imputed_ff[(imputed_ff[col] < lower_bound) | (imputed_ff[col] > upper_bound)]\n",
    "    \n",
    "    print('---------------------')\n",
    "    print(f'\\n{col} has {n_of_outliers} outliers\\n')\n",
    "    print(col_outliers_mask[col])"
   ]
  },
  {
   "cell_type": "markdown",
   "id": "0d71d382",
   "metadata": {},
   "source": [
    "Above shows each column's number of outliers (according to the box plot method) and the actuall outlier values them selves respectively. After examining each outlier and doing much research, the outliers for each column seem to be naturally occuring values. In this case we are going to keep the outliers as to not run the risk of heavily baising our model by ignoring these natural values."
   ]
  },
  {
   "cell_type": "markdown",
   "id": "49a3f1da",
   "metadata": {},
   "source": [
    "Next we will standardize our data to have each column on the same value scale. This will give our model a better chance at making better predictions."
   ]
  },
  {
   "cell_type": "code",
   "execution_count": 45,
   "id": "640e9c78",
   "metadata": {},
   "outputs": [
    {
     "data": {
      "text/html": [
       "<div>\n",
       "<style scoped>\n",
       "    .dataframe tbody tr th:only-of-type {\n",
       "        vertical-align: middle;\n",
       "    }\n",
       "\n",
       "    .dataframe tbody tr th {\n",
       "        vertical-align: top;\n",
       "    }\n",
       "\n",
       "    .dataframe thead th {\n",
       "        text-align: right;\n",
       "    }\n",
       "</style>\n",
       "<table border=\"1\" class=\"dataframe\">\n",
       "  <thead>\n",
       "    <tr style=\"text-align: right;\">\n",
       "      <th></th>\n",
       "      <th>FFMC</th>\n",
       "      <th>DMC</th>\n",
       "      <th>DC</th>\n",
       "      <th>ISI</th>\n",
       "      <th>temp</th>\n",
       "      <th>RH</th>\n",
       "      <th>wind</th>\n",
       "      <th>rain</th>\n",
       "    </tr>\n",
       "  </thead>\n",
       "  <tbody>\n",
       "    <tr>\n",
       "      <th>0</th>\n",
       "      <td>-0.812283</td>\n",
       "      <td>-1.335942</td>\n",
       "      <td>-1.846711</td>\n",
       "      <td>-0.860187</td>\n",
       "      <td>-0.398187</td>\n",
       "      <td>0.418726</td>\n",
       "      <td>1.514159</td>\n",
       "      <td>-0.073268</td>\n",
       "    </tr>\n",
       "    <tr>\n",
       "      <th>1</th>\n",
       "      <td>-0.010735</td>\n",
       "      <td>-0.859009</td>\n",
       "      <td>0.509582</td>\n",
       "      <td>-0.508736</td>\n",
       "      <td>-0.155493</td>\n",
       "      <td>-0.715565</td>\n",
       "      <td>-1.761003</td>\n",
       "      <td>-0.073268</td>\n",
       "    </tr>\n",
       "    <tr>\n",
       "      <th>2</th>\n",
       "      <td>-0.010735</td>\n",
       "      <td>-1.059878</td>\n",
       "      <td>-0.303178</td>\n",
       "      <td>-0.508736</td>\n",
       "      <td>-0.744894</td>\n",
       "      <td>-0.715565</td>\n",
       "      <td>-1.535130</td>\n",
       "      <td>-0.073268</td>\n",
       "    </tr>\n",
       "    <tr>\n",
       "      <th>3</th>\n",
       "      <td>0.189652</td>\n",
       "      <td>-1.223939</td>\n",
       "      <td>-1.915580</td>\n",
       "      <td>-0.003526</td>\n",
       "      <td>-1.837021</td>\n",
       "      <td>3.317471</td>\n",
       "      <td>-0.010485</td>\n",
       "      <td>0.603155</td>\n",
       "    </tr>\n",
       "    <tr>\n",
       "      <th>4</th>\n",
       "      <td>-0.247556</td>\n",
       "      <td>-0.939988</td>\n",
       "      <td>-1.814327</td>\n",
       "      <td>0.128267</td>\n",
       "      <td>-1.299625</td>\n",
       "      <td>3.443503</td>\n",
       "      <td>0.177742</td>\n",
       "      <td>-0.073268</td>\n",
       "    </tr>\n",
       "  </tbody>\n",
       "</table>\n",
       "</div>"
      ],
      "text/plain": [
       "       FFMC       DMC        DC       ISI      temp        RH      wind  \\\n",
       "0 -0.812283 -1.335942 -1.846711 -0.860187 -0.398187  0.418726  1.514159   \n",
       "1 -0.010735 -0.859009  0.509582 -0.508736 -0.155493 -0.715565 -1.761003   \n",
       "2 -0.010735 -1.059878 -0.303178 -0.508736 -0.744894 -0.715565 -1.535130   \n",
       "3  0.189652 -1.223939 -1.915580 -0.003526 -1.837021  3.317471 -0.010485   \n",
       "4 -0.247556 -0.939988 -1.814327  0.128267 -1.299625  3.443503  0.177742   \n",
       "\n",
       "       rain  \n",
       "0 -0.073268  \n",
       "1 -0.073268  \n",
       "2 -0.073268  \n",
       "3  0.603155  \n",
       "4 -0.073268  "
      ]
     },
     "execution_count": 45,
     "metadata": {},
     "output_type": "execute_result"
    }
   ],
   "source": [
    "# Importing our scaler\n",
    "from sklearn.preprocessing import StandardScaler\n",
    "\n",
    "# Instantiating the scaler\n",
    "scaler = StandardScaler()\n",
    "\n",
    "# Applying the scaler to our data\n",
    "scaled_ff = scaler.fit_transform(imputed_ff)\n",
    "\n",
    "# Converting back to a dataframe\n",
    "scaled_ff = pd.DataFrame(scaled_ff, columns=imputed_ff.columns)\n",
    "\n",
    "# First 5 rows\n",
    "scaled_ff.head()"
   ]
  },
  {
   "cell_type": "markdown",
   "id": "e614c279",
   "metadata": {},
   "source": [
    "Now let's add our summer month column back into our dataset."
   ]
  },
  {
   "cell_type": "code",
   "execution_count": 47,
   "id": "90980f4b",
   "metadata": {},
   "outputs": [
    {
     "data": {
      "text/html": [
       "<div>\n",
       "<style scoped>\n",
       "    .dataframe tbody tr th:only-of-type {\n",
       "        vertical-align: middle;\n",
       "    }\n",
       "\n",
       "    .dataframe tbody tr th {\n",
       "        vertical-align: top;\n",
       "    }\n",
       "\n",
       "    .dataframe thead th {\n",
       "        text-align: right;\n",
       "    }\n",
       "</style>\n",
       "<table border=\"1\" class=\"dataframe\">\n",
       "  <thead>\n",
       "    <tr style=\"text-align: right;\">\n",
       "      <th></th>\n",
       "      <th>summer</th>\n",
       "      <th>FFMC</th>\n",
       "      <th>DMC</th>\n",
       "      <th>DC</th>\n",
       "      <th>ISI</th>\n",
       "      <th>temp</th>\n",
       "      <th>RH</th>\n",
       "      <th>wind</th>\n",
       "      <th>rain</th>\n",
       "    </tr>\n",
       "  </thead>\n",
       "  <tbody>\n",
       "    <tr>\n",
       "      <th>0</th>\n",
       "      <td>0</td>\n",
       "      <td>-0.812283</td>\n",
       "      <td>-1.335942</td>\n",
       "      <td>-1.846711</td>\n",
       "      <td>-0.860187</td>\n",
       "      <td>-0.398187</td>\n",
       "      <td>0.418726</td>\n",
       "      <td>1.514159</td>\n",
       "      <td>-0.073268</td>\n",
       "    </tr>\n",
       "    <tr>\n",
       "      <th>1</th>\n",
       "      <td>0</td>\n",
       "      <td>-0.010735</td>\n",
       "      <td>-0.859009</td>\n",
       "      <td>0.509582</td>\n",
       "      <td>-0.508736</td>\n",
       "      <td>-0.155493</td>\n",
       "      <td>-0.715565</td>\n",
       "      <td>-1.761003</td>\n",
       "      <td>-0.073268</td>\n",
       "    </tr>\n",
       "    <tr>\n",
       "      <th>2</th>\n",
       "      <td>0</td>\n",
       "      <td>-0.010735</td>\n",
       "      <td>-1.059878</td>\n",
       "      <td>-0.303178</td>\n",
       "      <td>-0.508736</td>\n",
       "      <td>-0.744894</td>\n",
       "      <td>-0.715565</td>\n",
       "      <td>-1.535130</td>\n",
       "      <td>-0.073268</td>\n",
       "    </tr>\n",
       "    <tr>\n",
       "      <th>3</th>\n",
       "      <td>0</td>\n",
       "      <td>0.189652</td>\n",
       "      <td>-1.223939</td>\n",
       "      <td>-1.915580</td>\n",
       "      <td>-0.003526</td>\n",
       "      <td>-1.837021</td>\n",
       "      <td>3.317471</td>\n",
       "      <td>-0.010485</td>\n",
       "      <td>0.603155</td>\n",
       "    </tr>\n",
       "    <tr>\n",
       "      <th>4</th>\n",
       "      <td>0</td>\n",
       "      <td>-0.247556</td>\n",
       "      <td>-0.939988</td>\n",
       "      <td>-1.814327</td>\n",
       "      <td>0.128267</td>\n",
       "      <td>-1.299625</td>\n",
       "      <td>3.443503</td>\n",
       "      <td>0.177742</td>\n",
       "      <td>-0.073268</td>\n",
       "    </tr>\n",
       "    <tr>\n",
       "      <th>...</th>\n",
       "      <td>...</td>\n",
       "      <td>...</td>\n",
       "      <td>...</td>\n",
       "      <td>...</td>\n",
       "      <td>...</td>\n",
       "      <td>...</td>\n",
       "      <td>...</td>\n",
       "      <td>...</td>\n",
       "      <td>...</td>\n",
       "    </tr>\n",
       "    <tr>\n",
       "      <th>512</th>\n",
       "      <td>1</td>\n",
       "      <td>-1.650265</td>\n",
       "      <td>-0.854803</td>\n",
       "      <td>0.495235</td>\n",
       "      <td>-1.563087</td>\n",
       "      <td>1.543370</td>\n",
       "      <td>-0.778581</td>\n",
       "      <td>-0.744573</td>\n",
       "      <td>-0.073268</td>\n",
       "    </tr>\n",
       "    <tr>\n",
       "      <th>513</th>\n",
       "      <td>1</td>\n",
       "      <td>-1.650265</td>\n",
       "      <td>-0.854803</td>\n",
       "      <td>0.495235</td>\n",
       "      <td>-1.563087</td>\n",
       "      <td>0.520585</td>\n",
       "      <td>1.679050</td>\n",
       "      <td>1.005944</td>\n",
       "      <td>-0.073268</td>\n",
       "    </tr>\n",
       "    <tr>\n",
       "      <th>514</th>\n",
       "      <td>1</td>\n",
       "      <td>-1.650265</td>\n",
       "      <td>-0.854803</td>\n",
       "      <td>0.495235</td>\n",
       "      <td>-1.563087</td>\n",
       "      <td>0.399238</td>\n",
       "      <td>1.616034</td>\n",
       "      <td>1.514159</td>\n",
       "      <td>-0.073268</td>\n",
       "    </tr>\n",
       "    <tr>\n",
       "      <th>515</th>\n",
       "      <td>1</td>\n",
       "      <td>0.681511</td>\n",
       "      <td>0.553912</td>\n",
       "      <td>0.286579</td>\n",
       "      <td>0.501683</td>\n",
       "      <td>1.161993</td>\n",
       "      <td>-0.148419</td>\n",
       "      <td>-0.010485</td>\n",
       "      <td>-0.073268</td>\n",
       "    </tr>\n",
       "    <tr>\n",
       "      <th>516</th>\n",
       "      <td>0</td>\n",
       "      <td>-2.032821</td>\n",
       "      <td>-1.701924</td>\n",
       "      <td>-1.795880</td>\n",
       "      <td>-1.738812</td>\n",
       "      <td>-1.230284</td>\n",
       "      <td>-0.841597</td>\n",
       "      <td>0.271856</td>\n",
       "      <td>-0.073268</td>\n",
       "    </tr>\n",
       "  </tbody>\n",
       "</table>\n",
       "<p>517 rows × 9 columns</p>\n",
       "</div>"
      ],
      "text/plain": [
       "     summer      FFMC       DMC        DC       ISI      temp        RH  \\\n",
       "0         0 -0.812283 -1.335942 -1.846711 -0.860187 -0.398187  0.418726   \n",
       "1         0 -0.010735 -0.859009  0.509582 -0.508736 -0.155493 -0.715565   \n",
       "2         0 -0.010735 -1.059878 -0.303178 -0.508736 -0.744894 -0.715565   \n",
       "3         0  0.189652 -1.223939 -1.915580 -0.003526 -1.837021  3.317471   \n",
       "4         0 -0.247556 -0.939988 -1.814327  0.128267 -1.299625  3.443503   \n",
       "..      ...       ...       ...       ...       ...       ...       ...   \n",
       "512       1 -1.650265 -0.854803  0.495235 -1.563087  1.543370 -0.778581   \n",
       "513       1 -1.650265 -0.854803  0.495235 -1.563087  0.520585  1.679050   \n",
       "514       1 -1.650265 -0.854803  0.495235 -1.563087  0.399238  1.616034   \n",
       "515       1  0.681511  0.553912  0.286579  0.501683  1.161993 -0.148419   \n",
       "516       0 -2.032821 -1.701924 -1.795880 -1.738812 -1.230284 -0.841597   \n",
       "\n",
       "         wind      rain  \n",
       "0    1.514159 -0.073268  \n",
       "1   -1.761003 -0.073268  \n",
       "2   -1.535130 -0.073268  \n",
       "3   -0.010485  0.603155  \n",
       "4    0.177742 -0.073268  \n",
       "..        ...       ...  \n",
       "512 -0.744573 -0.073268  \n",
       "513  1.005944 -0.073268  \n",
       "514  1.514159 -0.073268  \n",
       "515 -0.010485 -0.073268  \n",
       "516  0.271856 -0.073268  \n",
       "\n",
       "[517 rows x 9 columns]"
      ]
     },
     "execution_count": 47,
     "metadata": {},
     "output_type": "execute_result"
    }
   ],
   "source": [
    "# Combining 'summer' and our scaled data\n",
    "final = pd.concat([ff['summer'], scaled_ff], axis=1)\n",
    "\n",
    "final"
   ]
  },
  {
   "cell_type": "markdown",
   "id": "2823cb30",
   "metadata": {},
   "source": [
    "# Visualizing Relationships with \"log_Area\""
   ]
  },
  {
   "cell_type": "markdown",
   "id": "c0899121",
   "metadata": {},
   "source": [
    "We want to visualize the relationships between each feature (column) and our target variable, log_area. Looking at these realtionships can give us ideas of how the features are related to our target variable allowing us to choose the best models for our data."
   ]
  },
  {
   "cell_type": "code",
   "execution_count": 88,
   "id": "a4636261",
   "metadata": {},
   "outputs": [
    {
     "data": {
      "image/png": "[encoded data removed]",
      "text/plain": [
       "<Figure size 1500x1700 with 9 Axes>"
      ]
     },
     "metadata": {},
     "output_type": "display_data"
    }
   ],
   "source": [
    "# Importing matplotlib for visuals\n",
    "import matplotlib.pyplot as plt\n",
    "%matplotlib inline\n",
    "\n",
    "# Size of plots\n",
    "plt.figure(figsize=(15, 17))\n",
    "\n",
    "# Scatterplot 'cols' against 'log_area'\n",
    "for i, col in enumerate(final):\n",
    "    plt.subplot(3, 3, i+1)\n",
    "    plt.scatter(ff['log_area'], final[col])\n",
    "    plt.xlabel('log_area')\n",
    "    plt.ylabel(col)\n",
    "    plt.title(f'\"{col}\" vs log area', size=12)"
   ]
  },
  {
   "cell_type": "markdown",
   "id": "33f38df2",
   "metadata": {},
   "source": [
    "None of these plots are showing signs of polynomial trends. Therfore we can count out using polynomial regression models. Only a few of the features stick out to me having some sort of a trend with log area. Those features are summer, FFMC, ISI, and rain. \n",
    "\n",
    "* summer - Non summer months log area max's around 4, but summer months range up to 7.\n",
    "* FFMC - Most of the observations hang around the 90-ish mark as log area ranges mainly from 0 to 5. \n",
    "* ISI -  A bulk of the observations hang around the 10 mark as log area ranges mainly from 0 to 6.\n",
    "* rain - Most of the observations have a value of zero with log area ranging from 0 to 7.\n",
    "\n",
    "The range of log area is all over the place for each each feature. It will be interesting to see what our models prediction's can come up with using these features."
   ]
  },
  {
   "cell_type": "markdown",
   "id": "0384fc44",
   "metadata": {},
   "source": [
    "# Subset Selection"
   ]
  },
  {
   "cell_type": "markdown",
   "id": "8b87393a",
   "metadata": {},
   "source": [
    "We're going to select groups of features for a model using a  process called sequential feature selection, or subset selection. We'll load in the library `SequentialFeatureSelector` from scikit learn which uses an algorithm that iterates over each feature in the dataset to see which one would produce the best model based on mean squared error. There's a forward method and a backward method. Forward iterates thru the features from the front of the list and backwards is vice versa. Let's impliment both methods here with a variety of different number of features to choose from."
   ]
  },
  {
   "cell_type": "code",
   "execution_count": 85,
   "id": "72b359b4",
   "metadata": {},
   "outputs": [],
   "source": [
    "# Import SequentialFeatureSelector library\n",
    "from sklearn.feature_selection import SequentialFeatureSelector\n",
    "\n",
    "# Target variable\n",
    "y = ff['log_area']\n",
    "\n",
    "# Model to use\n",
    "lm = LinearRegression()"
   ]
  },
  {
   "cell_type": "code",
   "execution_count": 86,
   "id": "59e1a391",
   "metadata": {},
   "outputs": [
    {
     "name": "stdout",
     "output_type": "stream",
     "text": [
      "Features selected in forward2 model: ['FFMC' 'DC']\n",
      "Features selected in forward4 model: ['FFMC' 'DC' 'RH' 'wind']\n",
      "Features selected in forward6 model: ['summer' 'FFMC' 'DC' 'ISI' 'RH' 'wind']\n"
     ]
    }
   ],
   "source": [
    "# Instantiating forward models with different number of features\n",
    "forward2 = SequentialFeatureSelector(estimator=lm,\n",
    "                                    n_features_to_select=2, \n",
    "                                    direction=\"forward\")\n",
    "\n",
    "forward4 = SequentialFeatureSelector(estimator=lm,\n",
    "                                    n_features_to_select=4, \n",
    "                                    direction=\"forward\")\n",
    "\n",
    "forward6 = SequentialFeatureSelector(estimator=lm,\n",
    "                                   n_features_to_select=6,\n",
    "                                   direction='forward')\n",
    "\n",
    "\n",
    "# Fitting data\n",
    "forward2.fit(final, y)\n",
    "forward4.fit(final, y)\n",
    "forward6.fit(final, y)\n",
    "\n",
    "\n",
    "print(f'Features selected in forward2 model: {forward2.get_feature_names_out()}')\n",
    "print(f'Features selected in forward4 model: {forward4.get_feature_names_out()}')\n",
    "print(f'Features selected in forward6 model: {forward6.get_feature_names_out()}')"
   ]
  },
  {
   "cell_type": "code",
   "execution_count": 87,
   "id": "8b0070bd",
   "metadata": {},
   "outputs": [
    {
     "name": "stdout",
     "output_type": "stream",
     "text": [
      "Features selected in backward2 model: ['DC' 'wind']\n",
      "Features selected in backward4 model: ['FFMC' 'DC' 'RH' 'wind']\n",
      "Features selected in backward6 model: ['summer' 'FFMC' 'DC' 'ISI' 'RH' 'wind']\n"
     ]
    }
   ],
   "source": [
    "# Instantiating backward models with different number of features\n",
    "backward2 = SequentialFeatureSelector(estimator=lm,\n",
    "                                    n_features_to_select=2, \n",
    "                                    direction=\"backward\")\n",
    "\n",
    "backward4 = SequentialFeatureSelector(estimator=lm,\n",
    "                                    n_features_to_select=4, \n",
    "                                    direction=\"backward\")\n",
    "\n",
    "backward6 = SequentialFeatureSelector(estimator=lm,\n",
    "                                   n_features_to_select=6,\n",
    "                                   direction='backward')\n",
    "\n",
    "\n",
    "# Fitting data\n",
    "backward2.fit(final, y)\n",
    "backward4.fit(final, y)\n",
    "backward6.fit(final, y)\n",
    "\n",
    "\n",
    "print(f'Features selected in backward2 model: {backward2.get_feature_names_out()}')\n",
    "print(f'Features selected in backward4 model: {backward4.get_feature_names_out()}')\n",
    "print(f'Features selected in backward6 model: {backward6.get_feature_names_out()}')"
   ]
  },
  {
   "cell_type": "markdown",
   "id": "ed4b98a8",
   "metadata": {},
   "source": [
    "The common features selected from our forward and backward models are `FFMC`, `DC`, and `wind`."
   ]
  },
  {
   "cell_type": "markdown",
   "id": "67a4efca",
   "metadata": {},
   "source": [
    "# Ridge and LASSO Models"
   ]
  },
  {
   "cell_type": "markdown",
   "id": "e0f03bfc",
   "metadata": {},
   "source": [
    "Ridge and LASSO regression models are two different types of regularization techniques that reduces the complexity of a model by penalizing high coefficients, helping for feature selection. The higher the coefficients for the ridge model, the more important that feature is. The non-zero coefficients for the lasso model, the more important those features are."
   ]
  },
  {
   "cell_type": "code",
   "execution_count": 112,
   "id": "f8397d0f",
   "metadata": {},
   "outputs": [
    {
     "name": "stdout",
     "output_type": "stream",
     "text": [
      "RidgeCV Feature Order: ['summer' 'FFMC' 'DMC' 'DC' 'ISI' 'temp' 'RH' 'wind' 'rain']\n",
      "RidgeCV Coefficients: [ 0.00231138  0.00926731  0.01340864  0.0137932  -0.00602348  0.00908162\n",
      " -0.0101807   0.01700565  0.00546081]\n",
      "\n",
      "RidgeCV Tuning Parameter: 2346.4646464646466\n"
     ]
    }
   ],
   "source": [
    "# Importing RidgeCV library\n",
    "from sklearn.linear_model import RidgeCV\n",
    "\n",
    "# Instantiating RidgeCV with tuning parameter range\n",
    "ridge = RidgeCV(alphas=np.linspace(2300, 2400, num=100))\n",
    "\n",
    "# Fitting data\n",
    "ridge.fit(final, y)\n",
    "\n",
    "print(f'RidgeCV Feature Order: {ridge.feature_names_in_}')\n",
    "print(f'RidgeCV Coefficients: {ridge.coef_}\\n')\n",
    "print(f'RidgeCV Tuning Parameter: {ridge.alpha_}')"
   ]
  },
  {
   "cell_type": "markdown",
   "id": "def94fca",
   "metadata": {},
   "source": [
    "The stronger features according to ridge regression are DMC, DC, and wind."
   ]
  },
  {
   "cell_type": "code",
   "execution_count": 109,
   "id": "ea9c3186",
   "metadata": {},
   "outputs": [
    {
     "name": "stdout",
     "output_type": "stream",
     "text": [
      "LassoCV Feature Order: ['summer' 'FFMC' 'DMC' 'DC' 'ISI' 'temp' 'RH' 'wind' 'rain']\n",
      "LassoCV Coefficients: [ 0.  0.  0.  0. -0.  0. -0.  0.  0.]\n",
      "\n",
      "LassoCV Tuning Parameter: 1000.0\n"
     ]
    }
   ],
   "source": [
    "# Importing LassoCV library\n",
    "from sklearn.linear_model import LassoCV\n",
    "\n",
    "# Instantiating LassoCV with tuning parameter range\n",
    "lasso = LassoCV(alphas=np.linspace(1, 1000, num=100))\n",
    "\n",
    "# Fitting data\n",
    "lasso.fit(final, y)\n",
    "\n",
    "print(f'LassoCV Feature Order: {lasso.feature_names_in_}')\n",
    "print(f'LassoCV Coefficients: {lasso.coef_}\\n')\n",
    "print(f'LassoCV Tuning Parameter: {lasso.alpha_}')"
   ]
  },
  {
   "cell_type": "markdown",
   "id": "bf2dfba5",
   "metadata": {},
   "source": [
    "According to the LASSO regression model, none of the features are worth using! The tuning parameter was always on the extreme side no matter the size of the range. \n",
    "\n",
    "We'll go ahead and only use our ridge model with the rest of our K-fold cross validation tests."
   ]
  },
  {
   "cell_type": "markdown",
   "id": "c34765be",
   "metadata": {},
   "source": [
    "# K-Fold Cross-Validation"
   ]
  },
  {
   "cell_type": "markdown",
   "id": "859b76d0",
   "metadata": {},
   "source": [
    "Let's instantiate linear regression models for all the different types of models we will be running and use K-Fold cross validation on each. K-Fold cross validation divides a dataset into subsets (folds), allowing a model to be trained and tested iteratively, giving us more reliable evaluation scores. "
   ]
  },
  {
   "cell_type": "code",
   "execution_count": 114,
   "id": "873956da",
   "metadata": {},
   "outputs": [],
   "source": [
    "# Instantiating linear regression for all models\n",
    "\n",
    "# Reference model\n",
    "reference = LinearRegression()\n",
    "\n",
    "# Forward models\n",
    "fw2 = LinearRegression()\n",
    "fw4 = LinearRegression()\n",
    "fw6 = LinearRegression()\n",
    "\n",
    "# Backward models\n",
    "bw2 = LinearRegression()\n",
    "bw4 = LinearRegression()\n",
    "bw6 = LinearRegression()"
   ]
  },
  {
   "cell_type": "code",
   "execution_count": 127,
   "id": "4bee6d88",
   "metadata": {},
   "outputs": [
    {
     "name": "stdout",
     "output_type": "stream",
     "text": [
      "reference model Average Negative MSE Score: -2.204650013004116\n",
      "forward2 model Average Negative MSE Score: -2.173543172119853\n",
      "forward4 model Average Negative MSE Score: -2.1935281067727113\n",
      "forward6 model Average Negative MSE Score: -2.217382522951446\n",
      "backward2 model Average Negative MSE Score: -2.173357302739327\n",
      "backward4 model Average Negative MSE Score: -2.1935281067727113\n",
      "backward6 model Average Negative MSE Score: -2.217382522951446\n",
      "ridge model Average Negative MSE Score: -2.182741879902077\n"
     ]
    }
   ],
   "source": [
    "# Importing cross validation library\n",
    "from sklearn.model_selection import cross_val_score\n",
    "\n",
    "# Reference CV model\n",
    "reference_cv = cross_val_score(reference, final[['wind', 'temp']], y, cv=5, scoring='neg_mean_squared_error')\n",
    "\n",
    "# Forward CV models\n",
    "fw2_cv = cross_val_score(fw2, final[forward2.get_feature_names_out()], y, cv=5, scoring='neg_mean_squared_error')\n",
    "fw4_cv = cross_val_score(fw4, final[forward4.get_feature_names_out()], y, cv=5, scoring='neg_mean_squared_error')\n",
    "fw6_cv = cross_val_score(fw6, final[forward6.get_feature_names_out()], y, cv=5, scoring='neg_mean_squared_error')\n",
    "\n",
    "# Backward CV models\n",
    "bw2_cv = cross_val_score(bw2, final[backward2.get_feature_names_out()], y, cv=5, scoring='neg_mean_squared_error')\n",
    "bw4_cv = cross_val_score(bw4, final[backward4.get_feature_names_out()], y, cv=5, scoring='neg_mean_squared_error')\n",
    "bw6_cv = cross_val_score(bw6, final[backward6.get_feature_names_out()], y, cv=5, scoring='neg_mean_squared_error')\n",
    "\n",
    "# Ridge CV model\n",
    "ridge_cv = cross_val_score(ridge, final, y, cv=5, scoring='neg_mean_squared_error')\n",
    "\n",
    "\n",
    "print(f'reference model Average Negative MSE Score: {np.mean(reference_cv)}')\n",
    "print(f'forward2 model Average Negative MSE Score: {np.mean(fw2_cv)}')\n",
    "print(f'forward4 model Average Negative MSE Score: {np.mean(fw4_cv)}')\n",
    "print(f'forward6 model Average Negative MSE Score: {np.mean(fw6_cv)}')\n",
    "print(f'backward2 model Average Negative MSE Score: {np.mean(bw2_cv)}')\n",
    "print(f'backward4 model Average Negative MSE Score: {np.mean(bw4_cv)}')\n",
    "print(f'backward6 model Average Negative MSE Score: {np.mean(bw6_cv)}')\n",
    "print(f'ridge model Average Negative MSE Score: {np.mean(ridge_cv)}')"
   ]
  },
  {
   "cell_type": "markdown",
   "id": "0ce4406e",
   "metadata": {},
   "source": [
    "With negative mean squared error (negative mse), the closer to zero the better. Zero means our model predicted perfectly. Our best model is our backward2 model with an average negative mse score of -2.1733. Given that our target variable is on the log scale, our score is not too good."
   ]
  },
  {
   "cell_type": "markdown",
   "id": "aa597931",
   "metadata": {},
   "source": [
    "# Examining Model Weaknesses"
   ]
  },
  {
   "cell_type": "markdown",
   "id": "e956ecda",
   "metadata": {},
   "source": [
    "Let's examine our best model, backward2, using a residuals plot. A residuals plot shows the variance of error in our model. "
   ]
  },
  {
   "cell_type": "code",
   "execution_count": 138,
   "id": "937b45aa",
   "metadata": {},
   "outputs": [
    {
     "data": {
      "text/plain": [
       "Text(0, 0.5, 'Residuals')"
      ]
     },
     "execution_count": 138,
     "metadata": {},
     "output_type": "execute_result"
    },
    {
     "data": {
      "image/png": "[encoded data removed]",
      "text/plain": [
       "<Figure size 640x480 with 1 Axes>"
      ]
     },
     "metadata": {},
     "output_type": "display_data"
    }
   ],
   "source": [
    "# Importing cross_val_predict to get predictions \n",
    "from sklearn.model_selection import cross_val_predict\n",
    "\n",
    "# Predictions from our best model, bw2 CV \n",
    "y_pred = cross_val_predict(bw2, final[backward4.get_feature_names_out()], y, cv=5)\n",
    "\n",
    "# Calculating residuals, observed - predictions\n",
    "residuals = y - y_pred\n",
    "\n",
    "# Residuals plot\n",
    "plt.scatter(y_pred, residuals)\n",
    "plt.axhline(0, color='red')\n",
    "plt.xlabel('Predictions', size=14)\n",
    "plt.ylabel('Residuals', size=14)"
   ]
  },
  {
   "cell_type": "markdown",
   "id": "9c51c132",
   "metadata": {},
   "source": [
    "The zero line represents the sum of the residuals. The values above the line mean our model predicted too high and the values below the line mean our model predicted too low. Variance increase as our predictions increase. In other words, the data doesn't fit our model that well."
   ]
  },
  {
   "cell_type": "code",
   "execution_count": 143,
   "id": "08b79774",
   "metadata": {},
   "outputs": [
    {
     "name": "stdout",
     "output_type": "stream",
     "text": [
      "r2 score: -0.12\n"
     ]
    }
   ],
   "source": [
    "# Importing r2 score library\n",
    "from sklearn.metrics import r2_score\n",
    "\n",
    "# Retreiving the r2 score of our backward2 model\n",
    "r2 = r2_score(y, y_pred)\n",
    "\n",
    "print(f'r2 score: {round(r2, 2)}')"
   ]
  },
  {
   "cell_type": "markdown",
   "id": "a4ad723e",
   "metadata": {},
   "source": [
    "R2 score, or coefficient of determination, is a metric that measures how well the model predicts an outcome in variance. A R2 of one would represent a perfectly fitted model. Our r2 score of -0.12 shows again that our data doesn't fit our model well. "
   ]
  },
  {
   "cell_type": "markdown",
   "id": "3f06186b",
   "metadata": {},
   "source": [
    "# Conclusion"
   ]
  },
  {
   "cell_type": "markdown",
   "id": "c8c61c74",
   "metadata": {},
   "source": [
    "Using linear regression to predict future forest fire area damage did not work out so well. Given the area damage is heavily skewed to the right from zero hurts the linearity between the model's predictors. \n",
    "\n",
    "There was a lot of outliers to the data that happened naturally. Also the month of march was an anomaly to the data having a larger amount of forest fires than other non summer months. Perhaps we could try a different type of model like decision tree regressor or random forest regressor. Another thing that could help is talk to an expert in the field of forest fires to gain some insight the could help boost our model's predictions.\n",
    "\n",
    "Sometimes nature can be unpredictable!"
   ]
  }
 ],
 "metadata": {
  "kernelspec": {
   "display_name": "Python 3 (ipykernel)",
   "language": "python",
   "name": "python3"
  },
  "language_info": {
   "codemirror_mode": {
    "name": "ipython",
    "version": 3
   },
   "file_extension": ".py",
   "mimetype": "text/x-python",
   "name": "python",
   "nbconvert_exporter": "python",
   "pygments_lexer": "ipython3",
   "version": "3.11.4"
  }
 },
 "nbformat": 4,
 "nbformat_minor": 5
}
